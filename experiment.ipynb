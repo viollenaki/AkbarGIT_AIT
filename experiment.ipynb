{
 "cells": [
  {
   "cell_type": "code",
   "execution_count": null,
   "metadata": {},
   "outputs": [],
   "source": [
    "import datetime\n",
    "\n",
    "# Unix-время\n",
    "timestamp = 0\n",
    "\n",
    "# Преобразование в формат даты и времени\n",
    "dt_object = str(datetime.datetime.fromtimestamp(i[0]))\n",
    "\n",
    "print( dt_object)\n"
   ]
  },
  {
   "cell_type": "code",
   "execution_count": null,
   "metadata": {},
   "outputs": [],
   "source": [
    "arr = [[1,2,3],[1,2,3]]\n",
    "for i in arr:\n",
    "    i[0] = 2\n",
    "print(arr)"
   ]
  },
  {
   "cell_type": "code",
   "execution_count": 21,
   "metadata": {},
   "outputs": [
    {
     "name": "stdout",
     "output_type": "stream",
     "text": [
      "0.1666762\n"
     ]
    }
   ],
   "source": [
    "import random\n",
    "count =0\n",
    "a=10000000\n",
    "for i in range(a):\n",
    "    if random.randint(1,6) + random.randint(1,6) == 7:\n",
    "        count+=1\n",
    "print(count/a)\n"
   ]
  },
  {
   "cell_type": "code",
   "execution_count": 54,
   "metadata": {},
   "outputs": [
    {
     "name": "stdout",
     "output_type": "stream",
     "text": [
      "1.00024389\n"
     ]
    }
   ],
   "source": [
    "s = 0\n",
    "arr = ['brak']*20+ ['nebrak']*80\n",
    "random.shuffle(arr)\n",
    "a = 1000000\n",
    "for h in range(a):\n",
    "    for i in range(5):\n",
    "        b = random.randint(0,len(arr)-1)\n",
    "        if arr[b] == 'brak':\n",
    "\n",
    "            s+=1    \n",
    "print(s/a)\n",
    "\n",
    "\n"
   ]
  },
  {
   "cell_type": "code",
   "execution_count": null,
   "metadata": {},
   "outputs": [],
   "source": []
  },
  {
   "cell_type": "code",
   "execution_count": null,
   "metadata": {},
   "outputs": [],
   "source": []
  },
  {
   "cell_type": "code",
   "execution_count": null,
   "metadata": {},
   "outputs": [],
   "source": []
  }
 ],
 "metadata": {
  "kernelspec": {
   "display_name": "Python 3",
   "language": "python",
   "name": "python3"
  },
  "language_info": {
   "codemirror_mode": {
    "name": "ipython",
    "version": 3
   },
   "file_extension": ".py",
   "mimetype": "text/x-python",
   "name": "python",
   "nbconvert_exporter": "python",
   "pygments_lexer": "ipython3",
   "version": "3.9.0"
  }
 },
 "nbformat": 4,
 "nbformat_minor": 2
}
